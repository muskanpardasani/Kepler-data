{
 "cells": [
  {
   "cell_type": "code",
   "execution_count": 2,
   "metadata": {},
   "outputs": [],
   "source": [
    "import requests\n",
    "import pandas as pd\n",
    "from bs4 import BeautifulSoup"
   ]
  },
  {
   "cell_type": "code",
   "execution_count": 40,
   "metadata": {},
   "outputs": [],
   "source": [
    "def user_input():\n",
    "    name= input(\"Enter celebrity name (Please use the standard format 'Abc Xyz'): \")\n",
    "    return name"
   ]
  },
  {
   "cell_type": "code",
   "execution_count": 79,
   "metadata": {},
   "outputs": [
    {
     "name": "stdout",
     "output_type": "stream",
     "text": [
      "Enter celebrity name (Please use the standard format 'Abc Xyz'): Leonardo DiCaprio\n"
     ]
    }
   ],
   "source": [
    "cel_name= user_input()"
   ]
  },
  {
   "cell_type": "code",
   "execution_count": 80,
   "metadata": {},
   "outputs": [
    {
     "name": "stdout",
     "output_type": "stream",
     "text": [
      "Leonardo_DiCaprio_filmography\n"
     ]
    }
   ],
   "source": [
    "newname= cel_name.replace(r\" \", \"_\")\n",
    "newname+='_filmography'\n",
    "print(newname)"
   ]
  },
  {
   "cell_type": "code",
   "execution_count": 81,
   "metadata": {},
   "outputs": [],
   "source": [
    "def movie_page(newname):\n",
    "    url= 'https://en.wikipedia.org/wiki/'\n",
    "    url+=newname\n",
    "    response=requests.get(url)\n",
    "    response.status_code\n",
    "    if response.status_code != 200:\n",
    "        raise Exception('Failed to load page {}'.format(url))\n",
    "\n",
    "    movies_doc = BeautifulSoup(response.text, 'html.parser')\n",
    "    return movies_doc"
   ]
  },
  {
   "cell_type": "code",
   "execution_count": 82,
   "metadata": {},
   "outputs": [],
   "source": [
    "doc=movie_page(newname)\n"
   ]
  },
  {
   "cell_type": "code",
   "execution_count": 83,
   "metadata": {},
   "outputs": [],
   "source": [
    "table=doc.find('table',{'class' : 'wikitable plainrowheaders sortable'})"
   ]
  },
  {
   "cell_type": "code",
   "execution_count": 84,
   "metadata": {},
   "outputs": [
    {
     "name": "stdout",
     "output_type": "stream",
     "text": [
      "['Critters 3', 'Poison Ivy', \"This Boy's Life\", \"What's Eating Gilbert Grape\", 'The Basketball Diaries', 'The Quick and the Dead', 'Total Eclipse', 'Romeo + Juliet', \"Marvin's Room\", 'Titanic', 'The Man in the Iron Mask', 'Celebrity', 'The Beach', \"Don's Plum\", 'Catch Me If You Can', 'Gangs of New York', 'The Aviator', 'The Departed', 'Blood Diamond', 'The 11th Hour', 'Body of Lies', 'Revolutionary Road', 'Shutter Island', 'Hubble', 'Inception', 'J. Edgar', 'Django Unchained', 'The Great Gatsby', 'The Wolf of Wall Street', 'The Revenant', 'The Audition', 'Before the Flood', 'Once Upon a Time in Hollywood', 'Ice on Fire', \"Don't Look Up\", 'Killers of the Flower Moon']\n"
     ]
    }
   ],
   "source": [
    "#t1=table.find_all('th', scope='row')\n",
    "t1=table.find_all('i')\n",
    "names= []        \n",
    "\n",
    "for nm in t1:\n",
    " names.append(nm.text.strip()) \n",
    "\n",
    "print(names)"
   ]
  },
  {
   "cell_type": "code",
   "execution_count": 85,
   "metadata": {},
   "outputs": [
    {
     "data": {
      "text/plain": [
       "['Killers of the Flower Moon',\n",
       " \"Don't Look Up\",\n",
       " 'Ice on Fire',\n",
       " 'Once Upon a Time in Hollywood',\n",
       " 'Before the Flood',\n",
       " 'The Audition',\n",
       " 'The Revenant',\n",
       " 'The Wolf of Wall Street',\n",
       " 'The Great Gatsby',\n",
       " 'Django Unchained',\n",
       " 'J. Edgar',\n",
       " 'Inception',\n",
       " 'Hubble',\n",
       " 'Shutter Island',\n",
       " 'Revolutionary Road',\n",
       " 'Body of Lies',\n",
       " 'The 11th Hour',\n",
       " 'Blood Diamond',\n",
       " 'The Departed',\n",
       " 'The Aviator',\n",
       " 'Gangs of New York',\n",
       " 'Catch Me If You Can',\n",
       " \"Don's Plum\",\n",
       " 'The Beach',\n",
       " 'Celebrity',\n",
       " 'The Man in the Iron Mask',\n",
       " 'Titanic',\n",
       " \"Marvin's Room\",\n",
       " 'Romeo + Juliet',\n",
       " 'Total Eclipse',\n",
       " 'The Quick and the Dead',\n",
       " 'The Basketball Diaries',\n",
       " \"What's Eating Gilbert Grape\",\n",
       " \"This Boy's Life\",\n",
       " 'Poison Ivy',\n",
       " 'Critters 3']"
      ]
     },
     "execution_count": 85,
     "metadata": {},
     "output_type": "execute_result"
    }
   ],
   "source": [
    "names.reverse()\n",
    "names"
   ]
  },
  {
   "cell_type": "code",
   "execution_count": null,
   "metadata": {},
   "outputs": [],
   "source": []
  }
 ],
 "metadata": {
  "kernelspec": {
   "display_name": "Python 3",
   "language": "python",
   "name": "python3"
  },
  "language_info": {
   "codemirror_mode": {
    "name": "ipython",
    "version": 3
   },
   "file_extension": ".py",
   "mimetype": "text/x-python",
   "name": "python",
   "nbconvert_exporter": "python",
   "pygments_lexer": "ipython3",
   "version": "3.7.6"
  }
 },
 "nbformat": 4,
 "nbformat_minor": 4
}
